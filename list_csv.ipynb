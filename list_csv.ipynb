{
 "cells": [
  {
   "cell_type": "code",
   "execution_count": 1,
   "id": "8851cec9",
   "metadata": {},
   "outputs": [],
   "source": [
    "import csv\n",
    "\n",
    "def write_list_to_csv(data_list, filename):\n",
    "    with open(filename, 'w', newline='') as file:\n",
    "        writer = csv.writer(file)\n",
    "        for element in data_list:\n",
    "            writer.writerow([element])\n",
    "\n",
    "# Example usage\n",
    "my_list = ['A14517', 'A13477', 'A14520', 'B00838', 'A04581', \n",
    "           'A05339', 'B16236', 'A22439', 'A02655', 'A15685', \n",
    "           'A20642', 'A72801', 'A14510', 'A22435', 'A02606', \n",
    "           'A12466', 'A14958', 'A68246', 'A06694', 'A14514', \n",
    "           'A08123', 'A15050', 'A14526', 'A14513', 'A22537', \n",
    "           'B11348', 'B14268', 'A10354', 'A12615', 'A16711', \n",
    "           'A02059', 'A04690', 'A15469', 'A22328', 'A07831', \n",
    "           'A19312', 'A11831', 'A22536', 'A22354', 'A04691', \n",
    "           'A14512', 'A10725', 'A10057', 'A20641', 'A22364', \n",
    "           'A15591', 'A12455', 'A00688', 'A01017', 'A08210', \n",
    "           'A20509', 'A22447', 'A13057', 'A19313', 'A12689', \n",
    "           'A16864', 'A13290', 'A22363', 'A19590', 'A16507', \n",
    "           'A11056', 'A11767', 'A14511', 'A14518', 'A12461', \n",
    "           'A18259', 'A12458', 'A02826', 'A04762', 'A12471', \n",
    "           'A14516', 'A14524', 'A12470', 'A14521', 'A22928', \n",
    "           'A04813', 'A14803', 'A22250', 'A08440', 'A73849', \n",
    "           'A12469', 'A22340', 'A14519']\n",
    "output_file = 'virginia_indians_new world_exploration_colony_colonization.csv'\n",
    "\n",
    "write_list_to_csv(my_list, output_file)\n"
   ]
  }
 ],
 "metadata": {
  "kernelspec": {
   "display_name": "Python 3 (ipykernel)",
   "language": "python",
   "name": "python3"
  },
  "language_info": {
   "codemirror_mode": {
    "name": "ipython",
    "version": 3
   },
   "file_extension": ".py",
   "mimetype": "text/x-python",
   "name": "python",
   "nbconvert_exporter": "python",
   "pygments_lexer": "ipython3",
   "version": "3.9.16"
  }
 },
 "nbformat": 4,
 "nbformat_minor": 5
}
